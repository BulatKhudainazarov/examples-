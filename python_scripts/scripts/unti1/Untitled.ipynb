{
 "cells": [
  {
   "cell_type": "code",
   "execution_count": 1,
   "metadata": {},
   "outputs": [
    {
     "name": "stdout",
     "output_type": "stream",
     "text": [
      "<function my_function at 0x00000243AEB3ED08>\n"
     ]
    },
    {
     "ename": "NameError",
     "evalue": "name 'isistance' is not defined",
     "output_type": "error",
     "traceback": [
      "\u001b[1;31m---------------------------------------------------------------------------\u001b[0m",
      "\u001b[1;31mNameError\u001b[0m                                 Traceback (most recent call last)",
      "\u001b[1;32m<ipython-input-1-670d24d054e5>\u001b[0m in \u001b[0;36m<module>\u001b[1;34m\u001b[0m\n\u001b[0;32m      3\u001b[0m \u001b[1;33m\u001b[0m\u001b[0m\n\u001b[0;32m      4\u001b[0m \u001b[0mprint\u001b[0m\u001b[1;33m(\u001b[0m\u001b[0mmy_function\u001b[0m\u001b[1;33m)\u001b[0m\u001b[1;33m\u001b[0m\u001b[1;33m\u001b[0m\u001b[0m\n\u001b[1;32m----> 5\u001b[1;33m \u001b[0mprint\u001b[0m\u001b[1;33m(\u001b[0m\u001b[1;34m'Functions are objects'\u001b[0m\u001b[1;33m,\u001b[0m \u001b[0misistance\u001b[0m\u001b[1;33m(\u001b[0m\u001b[0mmy_function\u001b[0m\u001b[1;33m,\u001b[0m \u001b[0moblect\u001b[0m\u001b[1;33m)\u001b[0m\u001b[1;33m)\u001b[0m\u001b[1;33m\u001b[0m\u001b[1;33m\u001b[0m\u001b[0m\n\u001b[0m\u001b[0;32m      6\u001b[0m \u001b[1;33m\u001b[0m\u001b[0m\n\u001b[0;32m      7\u001b[0m \u001b[0mtest\u001b[0m \u001b[1;33m=\u001b[0m \u001b[0mmy_function\u001b[0m\u001b[1;33m\u001b[0m\u001b[1;33m\u001b[0m\u001b[0m\n",
      "\u001b[1;31mNameError\u001b[0m: name 'isistance' is not defined"
     ]
    }
   ],
   "source": [
    "def my_function():\n",
    "    print('I am a function')\n",
    "\n",
    "print(my_function)    \n",
    "print('Functions are objects', isistance(my_function, oblect))\n",
    "\n",
    "test = my_function\n",
    "test\n",
    "\n",
    "my_list = []\n",
    "my_list.append(my_function)\n",
    "print(my_list)\n",
    "\n",
    "def call_passed_function(incoming): \n",
    "    print('Calling!')\n",
    "    incoming()\n",
    "    print('Called')\n",
    "    \n",
    "call_passed_function(my_function)    \n",
    "\n",
    "try: \n",
    "    d = 2 \n",
    "    d()\n",
    "except TypeError as e: \n",
    "    print('It is not a function', e)\n",
    "    \n",
    "print(callable(len), callable(45), callable(callable))  \n",
    "\n",
    "def retrun_min_function():\n",
    "    return min\n",
    "\n",
    "test = return_min_function()\n",
    "min_value = test(4, 5, -9, 12)\n",
    "print('Min values is', min_value)"
   ]
  },
  {
   "cell_type": "code",
   "execution_count": null,
   "metadata": {},
   "outputs": [],
   "source": []
  }
 ],
 "metadata": {
  "kernelspec": {
   "display_name": "Python 3",
   "language": "python",
   "name": "python3"
  },
  "language_info": {
   "codemirror_mode": {
    "name": "ipython",
    "version": 3
   },
   "file_extension": ".py",
   "mimetype": "text/x-python",
   "name": "python",
   "nbconvert_exporter": "python",
   "pygments_lexer": "ipython3",
   "version": "3.7.3"
  }
 },
 "nbformat": 4,
 "nbformat_minor": 2
}
